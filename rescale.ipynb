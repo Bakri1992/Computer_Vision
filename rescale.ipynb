{
 "cells": [
  {
   "cell_type": "markdown",
   "id": "fbf05bc5",
   "metadata": {},
   "source": [
    "**Wie kann ich die Dimesionen eines Fotos bearbeiten?**  \n",
    "Resizing and Rescaling."
   ]
  },
  {
   "cell_type": "code",
   "execution_count": 1,
   "id": "d850c2e8",
   "metadata": {},
   "outputs": [],
   "source": [
    "import cv2 as cv"
   ]
  },
  {
   "cell_type": "code",
   "execution_count": null,
   "id": "8f9a22ac",
   "metadata": {},
   "outputs": [],
   "source": [
    "# This method will work for Images, Videos and Live Video\n",
    "# To do rescaling we can wirte our own function\n",
    "# Remember shape[0] => the height\n",
    "#          shape[1] => the width\n",
    "def rescaleFrame(frame,scale=0.75):\n",
    "    width=int(frame.shape[1]*scale)\n",
    "    height=int(frame.shape[0]*scale)\n",
    "    dimensions=(width,height)\n",
    "    # This will give us the resized frame to a determined size.\n",
    "    return cv.resize(frame,dimensions,interpolation=cv.INTER_AREA)"
   ]
  },
  {
   "cell_type": "code",
   "execution_count": null,
   "id": "08c35388",
   "metadata": {},
   "outputs": [],
   "source": [
    "img=cv.imread(\"Fotos/foto2.jpg\")\n",
    "resized_img=rescaleFrame(img,0.5)\n",
    "cv.imshow(\"Foto\",resized_img)\n",
    "cv.waitKey(0)\n",
    "cv.destroyAllWindows()"
   ]
  },
  {
   "cell_type": "markdown",
   "id": "3f93607e",
   "metadata": {},
   "source": [
    "##### **How to rescale live videos?**\n",
    "By utilizing the following method."
   ]
  },
  {
   "cell_type": "code",
   "execution_count": 2,
   "id": "70b1386f",
   "metadata": {},
   "outputs": [],
   "source": [
    "def changeRs(width,height):\n",
    "    # Live Video\n",
    "    capture.set(3,width)\n",
    "    capture.set(4,height)"
   ]
  },
  {
   "cell_type": "code",
   "execution_count": null,
   "id": "7aec7ed1",
   "metadata": {},
   "outputs": [],
   "source": []
  }
 ],
 "metadata": {
  "kernelspec": {
   "display_name": "Python 3",
   "language": "python",
   "name": "python3"
  },
  "language_info": {
   "codemirror_mode": {
    "name": "ipython",
    "version": 3
   },
   "file_extension": ".py",
   "mimetype": "text/x-python",
   "name": "python",
   "nbconvert_exporter": "python",
   "pygments_lexer": "ipython3",
   "version": "3.13.0"
  }
 },
 "nbformat": 4,
 "nbformat_minor": 5
}
