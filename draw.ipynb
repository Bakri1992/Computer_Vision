{
 "cells": [
  {
   "cell_type": "markdown",
   "id": "3139bde1",
   "metadata": {},
   "source": [
    "Lets learn how to draw on photos and Videos"
   ]
  },
  {
   "cell_type": "code",
   "execution_count": 2,
   "id": "a803871b",
   "metadata": {},
   "outputs": [],
   "source": [
    "import cv2 as cv\n",
    "import numpy as np"
   ]
  },
  {
   "cell_type": "code",
   "execution_count": 3,
   "id": "252c6caa",
   "metadata": {},
   "outputs": [],
   "source": [
    "# How to draw a blanck image\n",
    "# u give (500,500,3) => height width and color channel && uint8 => photo\n",
    "blank=np.zeros((500,500,3),dtype=\"uint8\")\n",
    "cv.imshow(\"Blanck\",blank)\n",
    "cv.waitKey(0)\n",
    "cv.destroyAllWindows()"
   ]
  },
  {
   "cell_type": "code",
   "execution_count": 30,
   "id": "a9863de8",
   "metadata": {},
   "outputs": [],
   "source": [
    "# 1. Paint the image a certain color\n",
    "blank[:]=0,0,255\n",
    "cv.imshow(\"Red\",blank)\n",
    "cv.waitKey(0)\n",
    "cv.destroyAllWindows()"
   ]
  },
  {
   "cell_type": "code",
   "execution_count": 4,
   "id": "473956c9",
   "metadata": {},
   "outputs": [],
   "source": [
    "# We can give a specific area where to paint\n",
    "blank[50:100,50:100]=0,255,255\n",
    "cv.imshow(\"Green\",blank)\n",
    "cv.waitKey(0)\n",
    "cv.destroyAllWindows()"
   ]
  },
  {
   "cell_type": "code",
   "execution_count": 5,
   "id": "5ae3a36f",
   "metadata": {},
   "outputs": [],
   "source": [
    "img=cv.imread(\"Fotos/foto1.jpg\")\n",
    "cv.imshow(\"Photo\",img)\n",
    "cv.waitKey(0)\n",
    "cv.destroyAllWindows()"
   ]
  },
  {
   "cell_type": "code",
   "execution_count": null,
   "id": "9f7d1c90",
   "metadata": {},
   "outputs": [],
   "source": [
    "# Draw a rectangle on the image\n",
    "# photo, center point, second point, color, thickness\n",
    "cv.rectangle(blank,(0,0),(250,250),color=(255,0,0))\n",
    "cv.imshow(\"Rectangle\",blank)\n",
    "cv.waitKey(0)\n",
    "cv.destroyAllWindows()"
   ]
  },
  {
   "cell_type": "code",
   "execution_count": 27,
   "id": "cd686631",
   "metadata": {},
   "outputs": [],
   "source": [
    "cv.rectangle(blank,(250,250),(350,350),color=(255,0,0))\n",
    "cv.imshow(\"Rectangle\",blank)\n",
    "cv.waitKey(0)\n",
    "cv.destroyAllWindows()"
   ]
  },
  {
   "cell_type": "code",
   "execution_count": 38,
   "id": "8afe751c",
   "metadata": {},
   "outputs": [],
   "source": [
    "# Draw a circle\n",
    "# Photo, center , radius , color, thickness\n",
    "cv.circle(blank,(250,250),40,(255,250,0),thickness=3)\n",
    "cv.imshow(\"Circle\",blank)\n",
    "cv.waitKey(0)\n",
    "cv.destroyAllWindows()"
   ]
  },
  {
   "cell_type": "code",
   "execution_count": 41,
   "id": "894b2d8f",
   "metadata": {},
   "outputs": [],
   "source": [
    "# How to draw a line on image\n",
    "cv.line(blank,(0,0),(255,255),(255,0,0))\n",
    "cv.imshow(\"Line\",blank)\n",
    "cv.waitKey(0)\n",
    "cv.destroyAllWindows()"
   ]
  },
  {
   "cell_type": "code",
   "execution_count": 4,
   "id": "ddaeca46",
   "metadata": {},
   "outputs": [],
   "source": [
    "# How to write a text on image\n",
    "# image, what to write, where to write , Font, scaling the font , color\n",
    "cv.putText(blank,\"Hallo\",(225,225),cv.FONT_HERSHEY_TRIPLEX,1.0,(100,55,255))\n",
    "cv.imshow(\"Line\",blank)\n",
    "cv.waitKey(0)\n",
    "cv.destroyAllWindows()"
   ]
  },
  {
   "cell_type": "code",
   "execution_count": null,
   "id": "31f3c36e",
   "metadata": {},
   "outputs": [],
   "source": []
  }
 ],
 "metadata": {
  "kernelspec": {
   "display_name": "Python 3",
   "language": "python",
   "name": "python3"
  },
  "language_info": {
   "codemirror_mode": {
    "name": "ipython",
    "version": 3
   },
   "file_extension": ".py",
   "mimetype": "text/x-python",
   "name": "python",
   "nbconvert_exporter": "python",
   "pygments_lexer": "ipython3",
   "version": "3.13.0"
  }
 },
 "nbformat": 4,
 "nbformat_minor": 5
}
