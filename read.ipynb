{
 "cells": [
  {
   "cell_type": "markdown",
   "id": "2b25a1c1",
   "metadata": {},
   "source": [
    "#### What is Computer Vision?\n",
    "Computer vision is an application of deep learning that primarily focuses on deriving insights from media files, that is images and videos. "
   ]
  },
  {
   "cell_type": "markdown",
   "id": "b68b011b",
   "metadata": {},
   "source": [
    "**Link for this tutorial:** https://www.youtube.com/watch?v=oXlwWbU8l2o"
   ]
  },
  {
   "cell_type": "code",
   "execution_count": 1,
   "id": "96d3046f",
   "metadata": {},
   "outputs": [],
   "source": [
    "import cv2 as cv\n",
    "import numpy as np"
   ]
  },
  {
   "cell_type": "markdown",
   "id": "8415e0ed",
   "metadata": {},
   "source": [
    "##### **Reading Images & Videos:**"
   ]
  },
  {
   "cell_type": "code",
   "execution_count": 3,
   "id": "cf39f38c",
   "metadata": {},
   "outputs": [],
   "source": [
    "# Read an image\n",
    "# Takes a path to the image and return the image as a matrix of pixel\n",
    "img=cv.imread(\"Fotos/foto1.jpg\")"
   ]
  },
  {
   "cell_type": "code",
   "execution_count": 6,
   "id": "6ddcfd19",
   "metadata": {},
   "outputs": [],
   "source": [
    "# To Display the image => cv.imshow()\n",
    "# It take 2 Para the name of the window and the saved matrix of pixels\n",
    "cv.imshow(\"Foto\",img)\n",
    "cv.waitKey(0)\n",
    "cv.destroyAllWindows()"
   ]
  },
  {
   "cell_type": "markdown",
   "id": "ebf26e79",
   "metadata": {},
   "source": [
    "##### **Reading Videos:**"
   ]
  },
  {
   "cell_type": "code",
   "execution_count": 3,
   "id": "aa104a65",
   "metadata": {},
   "outputs": [],
   "source": [
    "# How to read a video?\n",
    "# We provide an integer argument 0,1,2,3... \n",
    "# If we use webcam or camera that conntected to my computer\n",
    "# Usually the webcam is referenced by integer 0\n",
    "# Or we read a video with a path\n",
    "capture =cv.VideoCapture(\"Videos/v1.mp4\")\n",
    "# Now reading videos is different from reading a photo\n",
    "while True:\n",
    "    # Here the video will be read frame by frame and will give a boolean return and the frame\n",
    "    isTrue, frame=capture.read()\n",
    "    cv.imshow(\"Video\",frame)\n",
    "    # Then to break if the letter is pressed then break up the loop and stop the video\n",
    "    if cv.waitKey(20) & 0xFF==ord(\"d\"):\n",
    "        break\n",
    "# Release the capture pointer\n",
    "    \n",
    "capture.release()\n",
    "cv.destroyAllWindows() "
   ]
  }
 ],
 "metadata": {
  "kernelspec": {
   "display_name": "Python 3",
   "language": "python",
   "name": "python3"
  },
  "language_info": {
   "codemirror_mode": {
    "name": "ipython",
    "version": 3
   },
   "file_extension": ".py",
   "mimetype": "text/x-python",
   "name": "python",
   "nbconvert_exporter": "python",
   "pygments_lexer": "ipython3",
   "version": "3.13.0"
  }
 },
 "nbformat": 4,
 "nbformat_minor": 5
}
